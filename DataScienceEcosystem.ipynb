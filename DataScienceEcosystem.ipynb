{
  "metadata": {
    "kernelspec": {
      "name": "python",
      "display_name": "Python (Pyodide)",
      "language": "python"
    },
    "language_info": {
      "codemirror_mode": {
        "name": "python",
        "version": 3
      },
      "file_extension": ".py",
      "mimetype": "text/x-python",
      "name": "python",
      "nbconvert_exporter": "python",
      "pygments_lexer": "ipython3",
      "version": "3.8"
    }
  },
  "nbformat_minor": 5,
  "nbformat": 4,
  "cells": [
    {
      "id": "26030e16-1955-4b96-b095-bc828fd40882",
      "cell_type": "markdown",
      "source": "# Data Science Tools and Ecosystem",
      "metadata": {}
    },
    {
      "id": "c58a0eb9-3952-4492-85ed-3baaaaf52dd1",
      "cell_type": "markdown",
      "source": "## Author\nJustyn Welsh",
      "metadata": {}
    },
    {
      "id": "b75189f3-f7e3-4d01-a7d5-7889bb225f47",
      "cell_type": "markdown",
      "source": "**Objectives**\n\n- List popular language for Data Science\n- List commonly used libraries in Data Science\n- Give examples of arithmetic expressions in Python.\n- LEARN\n",
      "metadata": {
        "jupyter": {
          "source_hidden": true
        }
      }
    },
    {
      "id": "51644b2e-683a-4462-8e36-4c911eb63f73",
      "cell_type": "markdown",
      "source": "In this notebook, Data Science Tools and Ecosystem are summarized.",
      "metadata": {}
    },
    {
      "id": "ad0c12f6-e153-46c2-b48f-c15b6e3fd17f",
      "cell_type": "markdown",
      "source": "Some of the popular languages that Data Scientists use are: \n\n1. Python\n2. R\n3. SQL",
      "metadata": {}
    },
    {
      "id": "6861de14-73c7-44bb-beaa-ffcc33ab07eb",
      "cell_type": "markdown",
      "source": "Some of the commonly used libraries used by Data Scientists include: \n\n1. NumPy\n2. Pandas\n3. TensorFlow",
      "metadata": {}
    },
    {
      "id": "e1da285a-22e9-4561-b7f1-6566a096ec10",
      "cell_type": "markdown",
      "source": "| Data Science Tools |\n|:--------:|\n| Jupyter Notebook |\n| Apache Spark |\n| Apache Hadoop |",
      "metadata": {}
    },
    {
      "id": "96e24a75-4bd5-4aa2-8ed0-e2a9cdd86a87",
      "cell_type": "markdown",
      "source": "### Below are a few examples of evaluating arithmetic expressions in Python",
      "metadata": {}
    },
    {
      "id": "0fdf25dc-d145-44b6-b0b3-8e6e83297c4d",
      "cell_type": "code",
      "source": "# This is a simple arithmetic expression to multiply then add intergers.\n(3*4)+5",
      "metadata": {
        "trusted": true
      },
      "outputs": [
        {
          "execution_count": 4,
          "output_type": "execute_result",
          "data": {
            "text/plain": "17"
          },
          "metadata": {}
        }
      ],
      "execution_count": 4
    },
    {
      "id": "cf4acf8c-1979-4a14-a043-6b2d36eb1c1d",
      "cell_type": "code",
      "source": "# This will convert 200 minutes to hours by dividing by 60.\n200/60",
      "metadata": {
        "trusted": true
      },
      "outputs": [
        {
          "execution_count": 5,
          "output_type": "execute_result",
          "data": {
            "text/plain": "3.3333333333333335"
          },
          "metadata": {}
        }
      ],
      "execution_count": 5
    }
  ]
}